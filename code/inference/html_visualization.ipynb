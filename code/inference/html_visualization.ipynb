{
 "cells": [
  {
   "cell_type": "markdown",
   "id": "6a988d05",
   "metadata": {},
   "source": [
    "## 0. Import Libraries"
   ]
  },
  {
   "cell_type": "code",
   "execution_count": 2,
   "id": "37d63011",
   "metadata": {},
   "outputs": [],
   "source": [
    "import pandas as pd"
   ]
  },
  {
   "cell_type": "markdown",
   "id": "8f3d0cfd",
   "metadata": {},
   "source": [
    "### 0.1 Load Dataset and Format"
   ]
  },
  {
   "cell_type": "code",
   "execution_count": 34,
   "id": "1ea37cc8",
   "metadata": {},
   "outputs": [],
   "source": [
    "#import dataframe\n",
    "data = pd.read_csv(r'FF_NN_50m_MaxAbs_Undersample_results.csv')\n",
    "data['calipso_datetime'] = pd.to_datetime(data['calipso_datetime'])\n",
    "data['calip_lat'] = pd.to_numeric(data['calip_lat'])\n",
    "data['calip_lon'] = pd.to_numeric(data['calip_lon'])\n",
    "data['crw_baa_7d_max'] = pd.to_numeric(data['crw_baa_7d_max'])\n",
    "data['crw_baa_7d_max'] = data['crw_baa_7d_max'] - 1\n",
    "\n",
    "data.loc[(data['y_pred'] == 1), 'y_pred'] = \"Coral\"\n",
    "data.loc[(data['y_pred'] == 0), 'y_pred'] = 'Other'"
   ]
  },
  {
   "cell_type": "markdown",
   "id": "563b5c38",
   "metadata": {},
   "source": [
    "## 1.0 Define html Formatting Functions"
   ]
  },
  {
   "cell_type": "code",
   "execution_count": 39,
   "id": "4f421774",
   "metadata": {},
   "outputs": [],
   "source": [
    "#define functions to apply legend to map and convert df to json format\n",
    "def add_categorical_legend(folium_map, title, colors, labels):\n",
    "    import folium\n",
    "    if len(colors) != len(labels):\n",
    "        raise ValueError(\"colors and labels must have the same length.\")\n",
    "\n",
    "    color_by_label = dict(zip(labels, colors))\n",
    "    \n",
    "    legend_categories = \"\"     \n",
    "    for label, color in color_by_label.items():\n",
    "        legend_categories += f\"<li><span style='background:{color}'></span>{label}</li>\"\n",
    "        \n",
    "    legend_html = f\"\"\"\n",
    "    <div id='maplegend' class='maplegend'>\n",
    "      <div class='legend-title'>{title}</div>\n",
    "      <div class='legend-scale'>\n",
    "        <ul class='legend-labels'>\n",
    "        {legend_categories}\n",
    "        </ul>\n",
    "      </div>\n",
    "    </div>\n",
    "    \"\"\"\n",
    "    script = f\"\"\"\n",
    "        <script type=\"text/javascript\">\n",
    "        var oneTimeExecution = (function() {{\n",
    "                    var executed = false;\n",
    "                    return function() {{\n",
    "                        if (!executed) {{\n",
    "                             var checkExist = setInterval(function() {{\n",
    "                                       if ((document.getElementsByClassName('leaflet-top leaflet-right').length) || (!executed)) {{\n",
    "                                          document.getElementsByClassName('leaflet-top leaflet-right')[0].style.display = \"flex\"\n",
    "                                          document.getElementsByClassName('leaflet-top leaflet-right')[0].style.flexDirection = \"column\"\n",
    "                                          document.getElementsByClassName('leaflet-top leaflet-right')[0].innerHTML += `{legend_html}`;\n",
    "                                          clearInterval(checkExist);\n",
    "                                          executed = true;\n",
    "                                       }}\n",
    "                                    }}, 100);\n",
    "                        }}\n",
    "                    }};\n",
    "                }})();\n",
    "        oneTimeExecution()\n",
    "        </script>\n",
    "      \"\"\"\n",
    "   \n",
    "\n",
    "    css = \"\"\"\n",
    "\n",
    "    <style type='text/css'>\n",
    "      .maplegend {\n",
    "        z-index:9999;\n",
    "        float:right;\n",
    "        background-color: rgba(255, 255, 255, 1);\n",
    "        border-radius: 5px;\n",
    "        border: 2px solid #bbb;\n",
    "        padding: 10px;\n",
    "        font-size:12px;\n",
    "        positon: relative;\n",
    "      }\n",
    "      .maplegend .legend-title {\n",
    "        text-align: left;\n",
    "        margin-bottom: 5px;\n",
    "        font-weight: bold;\n",
    "        font-size: 90%;\n",
    "        }\n",
    "      .maplegend .legend-scale ul {\n",
    "        margin: 0;\n",
    "        margin-bottom: 5px;\n",
    "        padding: 0;\n",
    "        float: left;\n",
    "        list-style: none;\n",
    "        }\n",
    "      .maplegend .legend-scale ul li {\n",
    "        font-size: 80%;\n",
    "        list-style: none;\n",
    "        margin-left: 0;\n",
    "        line-height: 18px;\n",
    "        margin-bottom: 2px;\n",
    "        }\n",
    "      .maplegend ul.legend-labels li span {\n",
    "        display: block;\n",
    "        float: left;\n",
    "        height: 16px;\n",
    "        width: 30px;\n",
    "        margin-right: 5px;\n",
    "        margin-left: 0;\n",
    "        border: 0px solid #ccc;\n",
    "        }\n",
    "      .maplegend .legend-source {\n",
    "        font-size: 80%;\n",
    "        color: #777;\n",
    "        clear: both;\n",
    "        }\n",
    "      .maplegend a {\n",
    "        color: #777;\n",
    "        }\n",
    "    </style>\n",
    "    \"\"\"\n",
    "\n",
    "    folium_map.get_root().header.add_child(folium.Element(script + css))\n",
    "\n",
    "    return folium_map\n",
    "\n",
    "def create_geojson_features(df):\n",
    "    print('> Creating GeoJSON features...')\n",
    "    features = []\n",
    "    for _, row in df.iterrows():\n",
    "        feature = {\n",
    "            'type': 'Feature',\n",
    "            'geometry': {\n",
    "                'type':'Point', \n",
    "                'coordinates':[row['calip_lon'],row['calip_lat']]\n",
    "            },\n",
    "            'properties': {\n",
    "                'time': row['calipso_datetime'].date().__str__(),\n",
    "                'popup': str('Label: {}, Date: {}, Coordinates: {}, Bleaching Alert: {}').format(row['y_pred'],\n",
    "                                                                                          str(row['calipso_datetime'].date()), \n",
    "                                                                                          [row['calip_lat'], row['calip_lon']],\n",
    "                                                                                          row['crw_baa_7d_max']),\n",
    "                'style': {'color' : row['color']},\n",
    "                'icon': 'circle',\n",
    "                'iconstyle':{\n",
    "                    'fillColor': row['color'],\n",
    "                    'fillOpacity': 1,\n",
    "                    'stroke': 'true',\n",
    "                    'radius': 7\n",
    "                }\n",
    "            }\n",
    "        }\n",
    "        features.append(feature)\n",
    "    return features"
   ]
  },
  {
   "cell_type": "markdown",
   "id": "3670e6f0",
   "metadata": {},
   "source": [
    "### 1.2 Define Function to Create Map and Extract Features from the Dataset"
   ]
  },
  {
   "cell_type": "code",
   "execution_count": 40,
   "id": "ca5d3a55",
   "metadata": {},
   "outputs": [],
   "source": [
    "def create_map(df):\n",
    "    import folium\n",
    "    import numpy as np\n",
    "    import pandas as pd\n",
    "    from folium.plugins import TimestampedGeoJson\n",
    "    \n",
    "    #filter for relevant variables\n",
    "    filtered_df = df[['calipso_datetime', 'calip_lat', 'calip_lon', 'crw_baa_7d_max', 'y_pred']]\n",
    "\n",
    "    #define colors based off class\n",
    "    colors = []\n",
    "    for index, row in filtered_df.iterrows():\n",
    "        if row['y_pred'] == 'Coral':\n",
    "            if row['crw_baa_7d_max'] > 0:\n",
    "                colors.append('#FFC300')\n",
    "            else:\n",
    "                colors.append('#a1d996')\n",
    "        else:\n",
    "            colors.append('#000')\n",
    "\n",
    "    filtered_df['color'] = colors\n",
    "\n",
    "    #use list comprehension to format date column\n",
    "    filtered_df['calipso_datetime'] = [row.strftime(\"%Y-%m-%d\") for row in filtered_df['calipso_datetime']]\n",
    "    filtered_df['calipso_datetime'] = pd.to_datetime(filtered_df['calipso_datetime'])\n",
    "\n",
    "    features = create_geojson_features(filtered_df)\n",
    "    import folium\n",
    "    from folium.plugins import TimestampedGeoJson\n",
    "    print('> Making map...')\n",
    "    coords=[25.0115, -80.5151]\n",
    "    m = folium.Map(location=coords, control_scale=True, zoom_start=8)\n",
    "\n",
    "    #create the map with json features\n",
    "    TimestampedGeoJson(\n",
    "        {'type': 'FeatureCollection',\n",
    "        'features': features},\n",
    "        period='P1M',\n",
    "        duration='P1M',\n",
    "        transition_time=800,\n",
    "        auto_play=True).add_to(m)\n",
    "\n",
    "    m = add_categorical_legend(m, 'Legend',\n",
    "                                colors = ['#000','#a1d996', '#FFC300'],\n",
    "                                labels = ['Other', 'Coral', 'Coral w/ Bleaching Conditions'])\n",
    "    \n",
    "    #save html to active directory, it crashes my notebook if I run it within the instance\n",
    "    m.save('timeseries.html')\n",
    "    return('> Map saved to local drive')\n",
    "    #return(m)"
   ]
  },
  {
   "cell_type": "markdown",
   "id": "9d082552",
   "metadata": {},
   "source": [
    "## 3.0 Generate Map"
   ]
  },
  {
   "cell_type": "code",
   "execution_count": 41,
   "id": "e7ad12c7",
   "metadata": {},
   "outputs": [
    {
     "name": "stderr",
     "output_type": "stream",
     "text": [
      "C:\\Users\\quinn\\AppData\\Local\\Temp/ipykernel_17412/3901970195.py:21: SettingWithCopyWarning: \n",
      "A value is trying to be set on a copy of a slice from a DataFrame.\n",
      "Try using .loc[row_indexer,col_indexer] = value instead\n",
      "\n",
      "See the caveats in the documentation: https://pandas.pydata.org/pandas-docs/stable/user_guide/indexing.html#returning-a-view-versus-a-copy\n",
      "  filtered_df['color'] = colors\n",
      "C:\\Users\\quinn\\AppData\\Local\\Temp/ipykernel_17412/3901970195.py:24: SettingWithCopyWarning: \n",
      "A value is trying to be set on a copy of a slice from a DataFrame.\n",
      "Try using .loc[row_indexer,col_indexer] = value instead\n",
      "\n",
      "See the caveats in the documentation: https://pandas.pydata.org/pandas-docs/stable/user_guide/indexing.html#returning-a-view-versus-a-copy\n",
      "  filtered_df['calipso_datetime'] = [row.strftime(\"%Y-%m-%d\") for row in filtered_df['calipso_datetime']]\n",
      "C:\\Users\\quinn\\AppData\\Local\\Temp/ipykernel_17412/3901970195.py:25: SettingWithCopyWarning: \n",
      "A value is trying to be set on a copy of a slice from a DataFrame.\n",
      "Try using .loc[row_indexer,col_indexer] = value instead\n",
      "\n",
      "See the caveats in the documentation: https://pandas.pydata.org/pandas-docs/stable/user_guide/indexing.html#returning-a-view-versus-a-copy\n",
      "  filtered_df['calipso_datetime'] = pd.to_datetime(filtered_df['calipso_datetime'])\n"
     ]
    },
    {
     "name": "stdout",
     "output_type": "stream",
     "text": [
      "> Creating GeoJSON features...\n",
      "> Making map...\n"
     ]
    },
    {
     "data": {
      "text/plain": [
       "'> Map saved to local drive'"
      ]
     },
     "execution_count": 41,
     "metadata": {},
     "output_type": "execute_result"
    }
   ],
   "source": [
    "create_map(data)"
   ]
  }
 ],
 "metadata": {
  "kernelspec": {
   "display_name": "Python 3 (ipykernel)",
   "language": "python",
   "name": "python3"
  },
  "language_info": {
   "codemirror_mode": {
    "name": "ipython",
    "version": 3
   },
   "file_extension": ".py",
   "mimetype": "text/x-python",
   "name": "python",
   "nbconvert_exporter": "python",
   "pygments_lexer": "ipython3",
   "version": "3.8.8"
  }
 },
 "nbformat": 4,
 "nbformat_minor": 5
}
