{
 "cells": [
  {
   "cell_type": "markdown",
   "id": "b11f90d9",
   "metadata": {},
   "source": [
    "## 0. Import Libraries"
   ]
  },
  {
   "cell_type": "code",
   "execution_count": 48,
   "id": "1c4bb416",
   "metadata": {},
   "outputs": [],
   "source": [
    "import pandas as pd\n",
    "import numpy as np\n",
    "from imblearn.under_sampling import RandomUnderSampler \n",
    "from sklearn.model_selection import train_test_split\n",
    "from sklearn.ensemble import RandomForestClassifier\n",
    "from sklearn.metrics import accuracy_score\n",
    "from sklearn.metrics import precision_score\n",
    "from sklearn.metrics import recall_score\n",
    "from sklearn.model_selection import cross_val_score\n",
    "from sklearn.ensemble import AdaBoostClassifier\n",
    "from sklearn.metrics import confusion_matrix\n",
    "from sklearn.linear_model import LogisticRegression\n",
    "from sklearn.neural_network import MLPClassifier\n",
    "from sklearn.svm import SVC"
   ]
  },
  {
   "cell_type": "markdown",
   "id": "a565bb76",
   "metadata": {},
   "source": [
    "### 0.1 Load Dataset, Format Data, Undersample, and Split Train/Test Data"
   ]
  },
  {
   "cell_type": "code",
   "execution_count": 136,
   "id": "5bd3f9fe",
   "metadata": {},
   "outputs": [],
   "source": [
    "df_test = pd.read_csv('calilp_dhw_label_giov.csv')\n",
    "\n",
    "df_test.crw_baa = pd.to_numeric(df_test.crw_baa)\n",
    "df_test.loc[(df_test['class'] == 'Coral/Algae') & (df_test.crw_baa > 0), 'class'] = \"Coral\"\n",
    "df_test.loc[(df_test['class'] != 'Coral'), 'class'] = 'Other'\n",
    "\n",
    "distance_filter = 50\n",
    "\n",
    "data = df_test[df_test.ac_distances < distance_filter].iloc[:, 1:301]\n",
    "data = data.apply(pd.to_numeric, errors='coerce')\n",
    "data['label'], class_label = df_test['class'][df_test.ac_distances < distance_filter].factorize()\n",
    "data = data.dropna()\n",
    "\n",
    "#extract predictors and labels\n",
    "X = data.iloc[:, 0:300]\n",
    "y = data['label']\n",
    "\n",
    "#undersample from scikitlearn package\n",
    "rus = RandomUnderSampler(random_state=12)\n",
    "X_res, y_res = rus.fit_resample(X, y)\n",
    "\n",
    "#split data for train/test\n",
    "x_train, x_test, y_train, y_test = train_test_split(X_res, y_res, test_size=0.15, random_state=8) "
   ]
  },
  {
   "cell_type": "markdown",
   "id": "3fdeb600",
   "metadata": {},
   "source": [
    "## 1.0 Train Initial Models"
   ]
  },
  {
   "cell_type": "code",
   "execution_count": 130,
   "id": "92767c37",
   "metadata": {},
   "outputs": [
    {
     "name": "stdout",
     "output_type": "stream",
     "text": [
      "0.6115593920060048 0.5874241588527302 0.7877218934911243\n",
      "0.6046275966897484\n"
     ]
    }
   ],
   "source": [
    "#random forest - full\n",
    "clf = RandomForestClassifier(max_depth = 2, random_state=0)\n",
    "clf.fit(x_train, y_train)\n",
    "\n",
    "y_pred = clf.predict(x_test)\n",
    "\n",
    "acc = accuracy_score(y_test, y_pred)\n",
    "prec = precision_score(y_test, y_pred)\n",
    "rec = recall_score(y_test, y_pred)\n",
    "\n",
    "print(acc,prec,rec)\n",
    "print(np.mean(cross_val_score(clf, X_res, y_res, cv=3)))"
   ]
  },
  {
   "cell_type": "code",
   "execution_count": 131,
   "id": "5aac5aa5",
   "metadata": {},
   "outputs": [
    {
     "name": "stdout",
     "output_type": "stream",
     "text": [
      "0.6213173203227622 0.6032510535821795 0.7411242603550295\n",
      "0.6155491752519281\n"
     ]
    }
   ],
   "source": [
    "#logit - full    \n",
    "clf = LogisticRegression(random_state=8).fit(x_train, y_train)\n",
    "\n",
    "y_pred = clf.predict(x_test)\n",
    "\n",
    "acc = accuracy_score(y_test, y_pred)\n",
    "prec = precision_score(y_test, y_pred)\n",
    "rec = recall_score(y_test, y_pred)\n",
    "\n",
    "print(acc,prec,rec)\n",
    "print(np.mean(cross_val_score(clf, X_res, y_res, cv=3)))"
   ]
  },
  {
   "cell_type": "markdown",
   "id": "c7594dea",
   "metadata": {},
   "source": [
    "## 2.0 Train Models with Filtered Feature Set"
   ]
  },
  {
   "cell_type": "code",
   "execution_count": 139,
   "id": "1cb9d265",
   "metadata": {},
   "outputs": [],
   "source": [
    "#filtering features now\n",
    "X = data.iloc[:, 0:11]\n",
    "X = X.join(data.iloc[:, 205:211])\n",
    "X = X.join(data.iloc[:, 220:226])\n",
    "\n",
    "y = data['label']\n",
    "y = y[y.index.isin(list(X.index))]\n",
    "\n",
    "#undersample from scikitlearn package\n",
    "rus = RandomUnderSampler(random_state=12)\n",
    "X_res, y_res = rus.fit_resample(X, y)\n",
    "\n",
    "#split data for train/test\n",
    "x_train, x_test, y_train, y_test = train_test_split(X_res, y_res, test_size=0.15, random_state=8) "
   ]
  },
  {
   "cell_type": "code",
   "execution_count": 84,
   "id": "94bff5d3",
   "metadata": {},
   "outputs": [
    {
     "name": "stdout",
     "output_type": "stream",
     "text": [
      "0.589041095890411 0.6048123980424144 0.5484467455621301\n",
      "0.5863592861566177\n"
     ]
    }
   ],
   "source": [
    "#random forest - slim features\n",
    "clf = RandomForestClassifier(max_depth = 2, random_state=0)\n",
    "clf.fit(x_train, y_train)\n",
    "\n",
    "y_pred = clf.predict(x_test)\n",
    "\n",
    "acc = accuracy_score(y_test, y_pred)\n",
    "prec = precision_score(y_test, y_pred)\n",
    "rec = recall_score(y_test, y_pred)\n",
    "\n",
    "print(acc,prec,rec)\n",
    "print(np.mean(cross_val_score(clf, X_res, y_res, cv=3)))"
   ]
  },
  {
   "cell_type": "code",
   "execution_count": 85,
   "id": "3ee07f7e",
   "metadata": {},
   "outputs": [
    {
     "name": "stdout",
     "output_type": "stream",
     "text": [
      "0.5106023644210922 0.5995850622406639 0.10687869822485208\n",
      "0.5241794741879188\n"
     ]
    }
   ],
   "source": [
    "#logit - slim features    \n",
    "clf = LogisticRegression(random_state=8).fit(x_train, y_train)\n",
    "\n",
    "y_pred = clf.predict(x_test)\n",
    "\n",
    "acc = accuracy_score(y_test, y_pred)\n",
    "prec = precision_score(y_test, y_pred)\n",
    "rec = recall_score(y_test, y_pred)\n",
    "\n",
    "print(acc,prec,rec)\n",
    "print(np.mean(cross_val_score(clf, X_res, y_res, cv=3)))"
   ]
  },
  {
   "cell_type": "markdown",
   "id": "7089373f",
   "metadata": {},
   "source": [
    "## 3.0 Augment CALIPSO Data with Giovanni"
   ]
  },
  {
   "cell_type": "code",
   "execution_count": 125,
   "id": "3a56e9b8",
   "metadata": {},
   "outputs": [],
   "source": [
    "#adding gio data\n",
    "data = df_test[df_test.ac_distances < distance_filter].iloc[:, 1:301]\n",
    "data = data.apply(pd.to_numeric, errors='coerce')\n",
    "data[['par','chlor_a', 'org_part', 'ino_part']] = df_test[['par','chlor_a', 'org_part', 'ino_part']][df_test.ac_distances < distance_filter]\n",
    "data['label'], class_label = df_test['class'][df_test.ac_distances < distance_filter].factorize()\n",
    "data = data.dropna()\n",
    "\n",
    "#extract predictors and labels\n",
    "X = data.iloc[:, 0:304]\n",
    "y = data['label']\n",
    "\n",
    "#undersample from scikitlearn package\n",
    "rus = RandomUnderSampler(random_state=12)\n",
    "X_res, y_res = rus.fit_resample(X, y)\n",
    "\n",
    "#split data for train/test\n",
    "x_train, x_test, y_train, y_test = train_test_split(X_res, y_res, test_size=0.15, random_state=8) "
   ]
  },
  {
   "cell_type": "code",
   "execution_count": 127,
   "id": "b17d190f",
   "metadata": {},
   "outputs": [
    {
     "name": "stdout",
     "output_type": "stream",
     "text": [
      "0.7124137931034483 0.6901217861975643 0.7306590257879656\n",
      "0.6909786881853921\n"
     ]
    }
   ],
   "source": [
    "#random forest - gio\n",
    "clf = RandomForestClassifier(max_depth = 2, random_state=0)\n",
    "clf.fit(x_train, y_train)\n",
    "\n",
    "y_pred = clf.predict(x_test)\n",
    "\n",
    "acc = accuracy_score(y_test, y_pred)\n",
    "prec = precision_score(y_test, y_pred)\n",
    "rec = recall_score(y_test, y_pred)\n",
    "\n",
    "print(acc,prec,rec)\n",
    "print(np.mean(cross_val_score(clf, X_res, y_res, cv=3)))"
   ]
  },
  {
   "cell_type": "code",
   "execution_count": 128,
   "id": "57b12bba",
   "metadata": {},
   "outputs": [
    {
     "name": "stdout",
     "output_type": "stream",
     "text": [
      "0.6862068965517242 0.6551724137931034 0.7349570200573066\n",
      "0.692022134153783\n"
     ]
    }
   ],
   "source": [
    "#logit - gio\n",
    "clf = LogisticRegression(max_iter=200, random_state=8).fit(x_train, y_train)\n",
    "\n",
    "y_pred = clf.predict(x_test)\n",
    "\n",
    "acc = accuracy_score(y_test, y_pred)\n",
    "prec = precision_score(y_test, y_pred)\n",
    "rec = recall_score(y_test, y_pred)\n",
    "\n",
    "print(acc,prec,rec)\n",
    "print(np.mean(cross_val_score(clf, X_res, y_res, cv=10)))"
   ]
  },
  {
   "cell_type": "markdown",
   "id": "b0392391",
   "metadata": {},
   "source": [
    "## 4.0 Filter Feature Set and Apply Giovanni Augmentation"
   ]
  },
  {
   "cell_type": "code",
   "execution_count": 89,
   "id": "0a5c6570",
   "metadata": {},
   "outputs": [],
   "source": [
    "#filtering features now and adding the gio\n",
    "X = data.iloc[:, 0:11]\n",
    "X = X.join(data.iloc[:, 205:211])\n",
    "X = X.join(data.iloc[:, 220:226])\n",
    "X[['par','chlor_a','org_part','ino_part']] = data[['par','chlor_a','org_part','ino_part']]\n",
    "\n",
    "y = data['label']\n",
    "y = y[y.index.isin(list(X.index))]\n",
    "\n",
    "#undersample from scikitlearn package\n",
    "rus = RandomUnderSampler(random_state=12)\n",
    "X_res, y_res = rus.fit_resample(X, y)\n",
    "\n",
    "#split data for train/test\n",
    "x_train, x_test, y_train, y_test = train_test_split(X_res, y_res, test_size=0.15, random_state=8) "
   ]
  },
  {
   "cell_type": "code",
   "execution_count": 90,
   "id": "93cbc736",
   "metadata": {},
   "outputs": [
    {
     "name": "stdout",
     "output_type": "stream",
     "text": [
      "0.6689655172413793 0.633578431372549 0.7406876790830945\n",
      "0.6831160769708257\n"
     ]
    }
   ],
   "source": [
    "#random forest - gio and slim features\n",
    "clf = RandomForestClassifier(max_depth = 2, random_state=0)\n",
    "clf.fit(x_train, y_train)\n",
    "\n",
    "y_pred = clf.predict(x_test)\n",
    "\n",
    "acc = accuracy_score(y_test, y_pred)\n",
    "prec = precision_score(y_test, y_pred)\n",
    "rec = recall_score(y_test, y_pred)\n",
    "\n",
    "print(acc,prec,rec)\n",
    "print(np.mean(cross_val_score(clf, X_res, y_res, cv=3)))"
   ]
  },
  {
   "cell_type": "code",
   "execution_count": 91,
   "id": "ddaf83cc",
   "metadata": {},
   "outputs": [
    {
     "name": "stdout",
     "output_type": "stream",
     "text": [
      "0.6689655172413793 0.6322815533980582 0.7464183381088825\n",
      "0.6688440202844944\n"
     ]
    }
   ],
   "source": [
    "#logit - gio and slim features    \n",
    "clf = LogisticRegression(max_iter=200, random_state=8).fit(x_train, y_train)\n",
    "\n",
    "y_pred = clf.predict(x_test)\n",
    "\n",
    "acc = accuracy_score(y_test, y_pred)\n",
    "prec = precision_score(y_test, y_pred)\n",
    "rec = recall_score(y_test, y_pred)\n",
    "\n",
    "print(acc,prec,rec)\n",
    "print(np.mean(cross_val_score(clf, X_res, y_res, cv=5)))"
   ]
  }
 ],
 "metadata": {
  "kernelspec": {
   "display_name": "Python 3 (ipykernel)",
   "language": "python",
   "name": "python3"
  },
  "language_info": {
   "codemirror_mode": {
    "name": "ipython",
    "version": 3
   },
   "file_extension": ".py",
   "mimetype": "text/x-python",
   "name": "python",
   "nbconvert_exporter": "python",
   "pygments_lexer": "ipython3",
   "version": "3.8.8"
  }
 },
 "nbformat": 4,
 "nbformat_minor": 5
}
